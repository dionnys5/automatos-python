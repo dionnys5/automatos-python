{
 "cells": [
  {
   "cell_type": "code",
   "execution_count": 1,
   "metadata": {},
   "outputs": [],
   "source": [
    "# %load virus_automata.py\n",
    "import numpy as np\n",
    "import random as rd\n",
    "import matplotlib.pyplot as plt\n",
    "import matplotlib.animation as animation\n",
    "from matplotlib import colors\n"
   ]
  },
  {
   "cell_type": "markdown",
   "metadata": {},
   "source": [
    "<h2>Dados Técnicos</h2>\n",
    "<ul>\n",
    "<li><strong>Formato</strong>: Quadrangular</li>\n",
    "<li><strong>Tamanho</strong>: Von Neumann</li>\n",
    "<li><strong>Raio</strong>: 1</li>\n",
    "<li><strong>Condição contorno</strong>: Fixo</li>\n",
    "<li><strong>Tipo</strong>: Probabilistica</li>\n",
    "<li><strong>Status Celulas</strong>: Viva Saudável (0), Viva Infectada(1), Morta(2)</li>\n",
    "</ul>\n",
    "<h2>Regras</h2>\n",
    "<p>Cada celula contaminada dentro da vizinha de uma celula saudavel aumenta em 15% de chance de contaminação para aquela celula naquele tempo.<br>\n",
    "Após 3 tempos a celula infectada morre (Não poderá mais infectar outra celula).\n",
    "</p>"
   ]
  },
  {
   "cell_type": "markdown",
   "metadata": {},
   "source": [
    "<h1>Funções</h1>"
   ]
  },
  {
   "cell_type": "code",
   "execution_count": 12,
   "metadata": {},
   "outputs": [],
   "source": [
    "def pct_contamina(populacao, row, col):\n",
    "    '''Soma quantas celulas estão contaminadas ao redor da celula saudável\n",
    "    Retorna % de chance dessa celular ser infectada'''\n",
    "    top = populacao[row-1, col]\n",
    "    bot = populacao[row+1, col]\n",
    "    left = populacao[row, col-1]\n",
    "    right = populacao[row, col+1]\n",
    "    total = 0\n",
    "    '''Os condicionais testam pra que apenas as celulas\n",
    "    infectadas ainda vivas influenciem na chance de infectar outro'''\n",
    "    if top <= 1: total += top\n",
    "    if bot <= 1: total += bot\n",
    "    if left <= 1: total += left\n",
    "    if right <= 1: total += right\n",
    "    return total * 30\n",
    "\n",
    "\n",
    "def infeccao(porcentagem):\n",
    "    '''Retorna True se o numero random estiver dentro da % de infecção'''\n",
    "    if rd.randrange(1,101) <= porcentagem:\n",
    "        return 1\n",
    "    return 0\n",
    "\n",
    "\n",
    "def tempos(data):\n",
    "    ''' Variavel global pra função conseguir alterar a matriz que esta fora '''\n",
    "    global population \n",
    "    for row in range(1,len(population)-1):\n",
    "        for col in range(1,len(population[0])-1):\n",
    "            if population[row, col] == 0:\n",
    "                '''Aqui é usado as funções para somar os vizinhos infectados\n",
    "                e decide se a celula saudavel será infectada'''\n",
    "                chance_contaminar = pct_contamina(population, row, col)\n",
    "                temp[row, col] = infeccao(chance_contaminar)\n",
    "            elif population[row, col] == 1:\n",
    "                ''' Aqui é verificado se a celula irá morrer dependendo de a quantos tempos a cell esta infectada'''            \n",
    "                if mortos [row, col] >= 6:\n",
    "                    temp[row, col] = 2\n",
    "                mortos[row, col] += population[row, col] \n",
    "\n",
    "\n",
    "    population = temp\n",
    "    matriz.set_data(population)\n",
    "    return [matriz]\n"
   ]
  },
  {
   "cell_type": "markdown",
   "metadata": {},
   "source": [
    "<h1>Criando Matriz e Gráficos</h1>"
   ]
  },
  {
   "cell_type": "code",
   "execution_count": 7,
   "metadata": {},
   "outputs": [],
   "source": [
    "'''Cria uma matrix 100x100 usando a biblioteca numpy'''\n",
    "population = np.zeros(shape=(101,101),dtype=int)\n",
    "\n",
    "'''Pacientes Zero'''\n",
    "population[50, 50] = 1\n",
    "##population[10, 10] = 1\n",
    "##population[95, 95] = 1 \n"
   ]
  },
  {
   "cell_type": "code",
   "execution_count": 51,
   "metadata": {
    "scrolled": false
   },
   "outputs": [
    {
     "data": {
      "image/png": "[encoded data removed]",
      "text/plain": [
       "<Figure size 432x288 with 1 Axes>"
      ]
     },
     "metadata": {
      "needs_background": "light"
     },
     "output_type": "display_data"
    }
   ],
   "source": [
    "'''Faz uma copia da população e é usada para determinar quando uma celula morre e para cada tempo'''\n",
    "mortos = population.copy() \n",
    "temp = population.copy()\n",
    "\n",
    "'''Desenhar matriz e escolhendo cores dependendo do valor da celula'''\n",
    "cores = colors.ListedColormap(['#3c587e','#ff3366','#8B0000'])\n",
    "limites = [0,1,2,10]\n",
    "norm = colors.BoundaryNorm(limites, cores.N)\n",
    "fig, ax = plt.subplots()\n",
    "ax.set_title(\"Automato Epidemia\")\n",
    "\n",
    "matriz = ax.matshow(population, cmap=cores, norm=norm, origin='lower', interpolation='nearest')\n",
    "\n",
    "'''Chama a função tempos que desenha a matriz, transformando tempos em frames'''\n",
    "ani = animation.FuncAnimation(fig, tempos, frames=400, blit=True, interval=50)\n",
    "'''Salva a animação em um arquivo MP4 utilizando o codec ffmpeg'''\n",
    "#ani.save(\"Infeccao_APOCALIPSE.mp4\",  bitrate=-1) #salvar animação como mp4\n",
    "plt.show()"
   ]
  }
 ],
 "metadata": {
  "kernelspec": {
   "display_name": "Python 3 (ipykernel)",
   "language": "python",
   "name": "python3"
  },
  "language_info": {
   "codemirror_mode": {
    "name": "ipython",
    "version": 3
   },
   "file_extension": ".py",
   "mimetype": "text/x-python",
   "name": "python",
   "nbconvert_exporter": "python",
   "pygments_lexer": "ipython3",
   "version": "3.9.0"
  }
 },
 "nbformat": 4,
 "nbformat_minor": 2
}
